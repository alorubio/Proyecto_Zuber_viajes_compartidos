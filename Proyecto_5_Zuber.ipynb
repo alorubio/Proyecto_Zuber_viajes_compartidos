{
 "cells": [
  {
   "cell_type": "markdown",
   "metadata": {},
   "source": [
    "# Descripción del proyecto\n",
    "\n",
    "## Objetivo\n",
    "\n",
    "Zuber, es una nueva empresa de viajes compartidos que se está lanzando en Chicago. El objetivo es encontrar patrones en la información disponible. Comprender las preferencias de los pasajeros y el impacto de los factores externos en los viajes."
   ]
  },
  {
   "cell_type": "code",
   "execution_count": 1,
   "metadata": {},
   "outputs": [],
   "source": [
    "#Se importan las librerías que se estarán utilizando para el proyecto\n",
    "\n",
    "import requests # Importa la librería para enviar solicitudes al servidor\n",
    "import pandas as pd\n",
    "from matplotlib import pyplot as plt\n",
    "from bs4 import BeautifulSoup # Importa la librería para analizar la página web\n",
    "from scipy import stats as st\n",
    "import numpy as np"
   ]
  },
  {
   "cell_type": "markdown",
   "metadata": {},
   "source": [
    "## Análisis exploratorio de datos"
   ]
  },
  {
   "cell_type": "code",
   "execution_count": 2,
   "metadata": {},
   "outputs": [
    {
     "name": "stdout",
     "output_type": "stream",
     "text": [
      "                      company_name  trips_amount\n",
      "0                        Flash Cab         19558\n",
      "1        Taxi Affiliation Services         11422\n",
      "2                Medallion Leasing         10367\n",
      "3                       Yellow Cab          9888\n",
      "4  Taxi Affiliation Service Yellow          9299\n"
     ]
    }
   ],
   "source": [
    "#Se importa la información de los archivos, se nombran los dataframes a trabajar, y se visualiza la información para estudiar\n",
    "#la información que contiene, y de que manera se encuentra capturada\n",
    "\n",
    "df_cabs = pd.read_csv('/datasets/project_sql_result_01.csv')\n",
    "print(df_cabs.head())"
   ]
  },
  {
   "cell_type": "code",
   "execution_count": 3,
   "metadata": {},
   "outputs": [
    {
     "name": "stdout",
     "output_type": "stream",
     "text": [
      "   dropoff_location_name  average_trips\n",
      "0                   Loop   10727.466667\n",
      "1            River North    9523.666667\n",
      "2          Streeterville    6664.666667\n",
      "3              West Loop    5163.666667\n",
      "4                 O'Hare    2546.900000\n",
      "5              Lake View    2420.966667\n",
      "6             Grant Park    2068.533333\n",
      "7          Museum Campus    1510.000000\n",
      "8             Gold Coast    1364.233333\n",
      "9     Sheffield & DePaul    1259.766667\n",
      "10          Lincoln Park    1246.533333\n",
      "11          East Village    1212.066667\n",
      "12     Little Italy, UIC     863.700000\n",
      "13                Uptown     849.666667\n",
      "14       Near South Side     839.833333\n",
      "15        Garfield Ridge     745.400000\n",
      "16          Logan Square     620.333333\n",
      "17             Edgewater     583.300000\n",
      "18             West Town     516.400000\n",
      "19              Old Town     469.566667\n"
     ]
    }
   ],
   "source": [
    "df_trips = pd.read_csv('/datasets/project_sql_result_04.csv')\n",
    "print(df_trips.head(20))"
   ]
  },
  {
   "cell_type": "code",
   "execution_count": 4,
   "metadata": {},
   "outputs": [
    {
     "name": "stdout",
     "output_type": "stream",
     "text": [
      "<class 'pandas.core.frame.DataFrame'>\n",
      "RangeIndex: 64 entries, 0 to 63\n",
      "Data columns (total 2 columns):\n",
      " #   Column        Non-Null Count  Dtype \n",
      "---  ------        --------------  ----- \n",
      " 0   company_name  64 non-null     object\n",
      " 1   trips_amount  64 non-null     int64 \n",
      "dtypes: int64(1), object(1)\n",
      "memory usage: 1.1+ KB\n"
     ]
    }
   ],
   "source": [
    "#Se estudia la estructura de los dataframes, para conocer los tipos de datos, cantidad de entradas, probabilidad de datos nulos,\n",
    "#etc, para saber si hay que tratar algún tipo de información\n",
    "\n",
    "df_cabs.info()"
   ]
  },
  {
   "cell_type": "code",
   "execution_count": 5,
   "metadata": {},
   "outputs": [
    {
     "name": "stdout",
     "output_type": "stream",
     "text": [
      "<class 'pandas.core.frame.DataFrame'>\n",
      "RangeIndex: 94 entries, 0 to 93\n",
      "Data columns (total 2 columns):\n",
      " #   Column                 Non-Null Count  Dtype  \n",
      "---  ------                 --------------  -----  \n",
      " 0   dropoff_location_name  94 non-null     object \n",
      " 1   average_trips          94 non-null     float64\n",
      "dtypes: float64(1), object(1)\n",
      "memory usage: 1.6+ KB\n"
     ]
    }
   ],
   "source": [
    "df_trips.info()"
   ]
  },
  {
   "cell_type": "code",
   "execution_count": 6,
   "metadata": {},
   "outputs": [
    {
     "data": {
      "text/html": [
       "<div>\n",
       "<style scoped>\n",
       "    .dataframe tbody tr th:only-of-type {\n",
       "        vertical-align: middle;\n",
       "    }\n",
       "\n",
       "    .dataframe tbody tr th {\n",
       "        vertical-align: top;\n",
       "    }\n",
       "\n",
       "    .dataframe thead th {\n",
       "        text-align: right;\n",
       "    }\n",
       "</style>\n",
       "<table border=\"1\" class=\"dataframe\">\n",
       "  <thead>\n",
       "    <tr style=\"text-align: right;\">\n",
       "      <th></th>\n",
       "      <th>dropoff_location_name</th>\n",
       "      <th>average_trips</th>\n",
       "    </tr>\n",
       "  </thead>\n",
       "  <tbody>\n",
       "    <tr>\n",
       "      <th>0</th>\n",
       "      <td>Loop</td>\n",
       "      <td>10727.47</td>\n",
       "    </tr>\n",
       "    <tr>\n",
       "      <th>1</th>\n",
       "      <td>River North</td>\n",
       "      <td>9523.67</td>\n",
       "    </tr>\n",
       "    <tr>\n",
       "      <th>2</th>\n",
       "      <td>Streeterville</td>\n",
       "      <td>6664.67</td>\n",
       "    </tr>\n",
       "    <tr>\n",
       "      <th>3</th>\n",
       "      <td>West Loop</td>\n",
       "      <td>5163.67</td>\n",
       "    </tr>\n",
       "    <tr>\n",
       "      <th>4</th>\n",
       "      <td>O'Hare</td>\n",
       "      <td>2546.90</td>\n",
       "    </tr>\n",
       "  </tbody>\n",
       "</table>\n",
       "</div>"
      ],
      "text/plain": [
       "  dropoff_location_name  average_trips\n",
       "0                  Loop       10727.47\n",
       "1           River North        9523.67\n",
       "2         Streeterville        6664.67\n",
       "3             West Loop        5163.67\n",
       "4                O'Hare        2546.90"
      ]
     },
     "execution_count": 6,
     "metadata": {},
     "output_type": "execute_result"
    }
   ],
   "source": [
    "#Se redondea el número de decimales que arroja el campo \"average_trips\" a dos decimales, para una mejor vista, y manejo de\n",
    "#campo a la hora de utilizarla, para análisis\n",
    "\n",
    "df_trips['average_trips'] = df_trips['average_trips'].round(2)\n",
    "df_trips.head()"
   ]
  },
  {
   "cell_type": "code",
   "execution_count": 7,
   "metadata": {},
   "outputs": [
    {
     "data": {
      "text/plain": [
       "dropoff_location_name\n",
       "Loop                  10727.47\n",
       "River North            9523.67\n",
       "Streeterville          6664.67\n",
       "West Loop              5163.67\n",
       "O'Hare                 2546.90\n",
       "Lake View              2420.97\n",
       "Grant Park             2068.53\n",
       "Museum Campus          1510.00\n",
       "Gold Coast             1364.23\n",
       "Sheffield & DePaul     1259.77\n",
       "Name: average_trips, dtype: float64"
      ]
     },
     "execution_count": 7,
     "metadata": {},
     "output_type": "execute_result"
    }
   ],
   "source": [
    "#Identificar los 10 principales barrios en términos de finalización del recorrido\n",
    "\n",
    "recorrido = df_trips.groupby('dropoff_location_name')['average_trips'].max().sort_values(ascending=False).head(10)\n",
    "recorrido"
   ]
  },
  {
   "cell_type": "code",
   "execution_count": 8,
   "metadata": {},
   "outputs": [
    {
     "data": {
      "image/png": "[encoded data removed]",
      "text/plain": [
       "<Figure size 640x480 with 1 Axes>"
      ]
     },
     "metadata": {},
     "output_type": "display_data"
    }
   ],
   "source": [
    "#Visualiazión por medio de gráfico los 10 principales barrios para una comprensión más visual sobre los datos.\n",
    "\n",
    "recorrido.plot(kind='bar', title='10 principales barrios por número de finalización de recorrido', xlabel='Barrio', ylabel='Recorrido')\n",
    "plt.show()"
   ]
  },
  {
   "cell_type": "markdown",
   "metadata": {},
   "source": [
    "### Conclusión\n",
    "\n",
    "Podemos observar que hay una fuerte demanda en recorridos principalmente en el barrio de Loop, seguido por River North, Streeterville, West Loop, lo que nos indica que en estos barrios es donde son más solicitados los viajes, ya que probablemente en dichos barrios, la población no cuenta con un método de transporte propio, por lo que utilizar una buena estrategia en estos puntos sería de gran valor para aprovechar la demanda que se tiene."
   ]
  },
  {
   "cell_type": "code",
   "execution_count": 9,
   "metadata": {},
   "outputs": [
    {
     "data": {
      "text/plain": [
       "company_name\n",
       "Flash Cab                            19558\n",
       "Taxi Affiliation Services            11422\n",
       "Medallion Leasing                    10367\n",
       "Yellow Cab                            9888\n",
       "Taxi Affiliation Service Yellow       9299\n",
       "Chicago Carriage Cab Corp             9181\n",
       "City Service                          8448\n",
       "Sun Taxi                              7701\n",
       "Star North Management LLC             7455\n",
       "Blue Ribbon Taxi Association Inc.     5953\n",
       "Name: trips_amount, dtype: int64"
      ]
     },
     "execution_count": 9,
     "metadata": {},
     "output_type": "execute_result"
    }
   ],
   "source": [
    "#Obtener las 10 principales compañías de taxis en términos de recorridos\n",
    "\n",
    "taxis_top_10 = df_cabs.groupby('company_name')['trips_amount'].max().sort_values(ascending=False).head(10)\n",
    "taxis_top_10"
   ]
  },
  {
   "cell_type": "code",
   "execution_count": 10,
   "metadata": {},
   "outputs": [
    {
     "data": {
      "image/png": "[encoded data removed]",
      "text/plain": [
       "<Figure size 640x480 with 1 Axes>"
      ]
     },
     "metadata": {},
     "output_type": "display_data"
    }
   ],
   "source": [
    "#Visualiazión por medio de gráfico las 10 principales compañías de taxi para una comprensión más visual sobre los datos.\n",
    "\n",
    "taxis_top_10.plot(kind='bar', title='10 principales compañías de taxi por número de recorrido', xlabel='Compañía de taxi', ylabel='Recorrido')\n",
    "plt.show()"
   ]
  },
  {
   "cell_type": "markdown",
   "metadata": {},
   "source": [
    "### Conclusión\n",
    "\n",
    "Podemos observar que la compañía de taxi más solicitada para realizar los recorridos, por una diferencia bastante considerable es Flash Cab, lo cual sería de bastante apoyo analizar dicha compañía para conocer que diferenciador tiene y aporta dicha compañía para la población, conocer porque las personas prefieren dicha compañía, para saber que está haciendo bien, que pudiera mejorar, y porque no, hasta saber que diferenciador tiene, para en caso de necesitarse, probablemente replicarlo en otras compañías a la hora de realizar alguna estrategia, para incrementar sus viajes (esto en caso de que se trate de otra compañía), o bien en caso de tratarse de Flash Cab, saber que mejoras o diferenciadores se pueden agregar, para seguir incrementando sus viajes."
   ]
  },
  {
   "cell_type": "markdown",
   "metadata": {},
   "source": [
    "## Prueba de hipótesis"
   ]
  },
  {
   "cell_type": "code",
   "execution_count": 11,
   "metadata": {},
   "outputs": [
    {
     "name": "stdout",
     "output_type": "stream",
     "text": [
      "               start_ts weather_conditions  duration_seconds\n",
      "0   2017-11-25 16:00:00               Good            2410.0\n",
      "1   2017-11-25 14:00:00               Good            1920.0\n",
      "2   2017-11-25 12:00:00               Good            1543.0\n",
      "3   2017-11-04 10:00:00               Good            2512.0\n",
      "4   2017-11-11 07:00:00               Good            1440.0\n",
      "5   2017-11-11 04:00:00               Good            1320.0\n",
      "6   2017-11-04 16:00:00                Bad            2969.0\n",
      "7   2017-11-18 11:00:00               Good            2280.0\n",
      "8   2017-11-11 14:00:00               Good            2460.0\n",
      "9   2017-11-11 12:00:00               Good            2040.0\n",
      "10  2017-11-18 06:00:00               Good            1500.0\n",
      "11  2017-11-04 11:00:00               Good            2040.0\n",
      "12  2017-11-11 08:00:00               Good            1470.0\n",
      "13  2017-11-04 08:00:00               Good            1546.0\n",
      "14  2017-11-11 16:00:00               Good            2100.0\n"
     ]
    }
   ],
   "source": [
    "#Se importa el archivo a analizar para la prueba de hipótesis y se visualiza la información capturada\n",
    "\n",
    "df_weather = pd.read_csv('/datasets/project_sql_result_07.csv')\n",
    "print(df_weather.head(15))"
   ]
  },
  {
   "cell_type": "code",
   "execution_count": 12,
   "metadata": {},
   "outputs": [
    {
     "name": "stdout",
     "output_type": "stream",
     "text": [
      "<class 'pandas.core.frame.DataFrame'>\n",
      "RangeIndex: 1068 entries, 0 to 1067\n",
      "Data columns (total 3 columns):\n",
      " #   Column              Non-Null Count  Dtype  \n",
      "---  ------              --------------  -----  \n",
      " 0   start_ts            1068 non-null   object \n",
      " 1   weather_conditions  1068 non-null   object \n",
      " 2   duration_seconds    1068 non-null   float64\n",
      "dtypes: float64(1), object(2)\n",
      "memory usage: 25.2+ KB\n"
     ]
    }
   ],
   "source": [
    "#Se estudia la estructura del dataframe, para conocer tipos de datos, número de entradas, posible información nula, para\n",
    "#saber que información se tiene que tratar\n",
    "\n",
    "df_weather.info()"
   ]
  },
  {
   "cell_type": "code",
   "execution_count": 13,
   "metadata": {},
   "outputs": [
    {
     "name": "stdout",
     "output_type": "stream",
     "text": [
      "<class 'pandas.core.frame.DataFrame'>\n",
      "RangeIndex: 1068 entries, 0 to 1067\n",
      "Data columns (total 4 columns):\n",
      " #   Column              Non-Null Count  Dtype         \n",
      "---  ------              --------------  -----         \n",
      " 0   start_ts            1068 non-null   datetime64[ns]\n",
      " 1   weather_conditions  1068 non-null   object        \n",
      " 2   duration_seconds    1068 non-null   float64       \n",
      " 3   week_day            1068 non-null   int64         \n",
      "dtypes: datetime64[ns](1), float64(1), int64(1), object(1)\n",
      "memory usage: 33.5+ KB\n"
     ]
    }
   ],
   "source": [
    "#Se cambia el tipo de datos del campo \"start_ts\" a datetime, y de extrae el día de la semana a una columna nueva\n",
    "\n",
    "df_weather['start_ts']=pd.to_datetime(df_weather['start_ts'], format = '%Y-%m-%d')\n",
    "df_weather['week_day']=df_weather['start_ts'].dt.weekday\n",
    "df_weather.info()"
   ]
  },
  {
   "cell_type": "code",
   "execution_count": 14,
   "metadata": {},
   "outputs": [
    {
     "data": {
      "text/html": [
       "<div>\n",
       "<style scoped>\n",
       "    .dataframe tbody tr th:only-of-type {\n",
       "        vertical-align: middle;\n",
       "    }\n",
       "\n",
       "    .dataframe tbody tr th {\n",
       "        vertical-align: top;\n",
       "    }\n",
       "\n",
       "    .dataframe thead th {\n",
       "        text-align: right;\n",
       "    }\n",
       "</style>\n",
       "<table border=\"1\" class=\"dataframe\">\n",
       "  <thead>\n",
       "    <tr style=\"text-align: right;\">\n",
       "      <th></th>\n",
       "      <th>start_ts</th>\n",
       "      <th>weather_conditions</th>\n",
       "      <th>duration_seconds</th>\n",
       "      <th>week_day</th>\n",
       "    </tr>\n",
       "  </thead>\n",
       "  <tbody>\n",
       "    <tr>\n",
       "      <th>0</th>\n",
       "      <td>2017-11-25 16:00:00</td>\n",
       "      <td>Good</td>\n",
       "      <td>2410.0</td>\n",
       "      <td>5</td>\n",
       "    </tr>\n",
       "    <tr>\n",
       "      <th>1</th>\n",
       "      <td>2017-11-25 14:00:00</td>\n",
       "      <td>Good</td>\n",
       "      <td>1920.0</td>\n",
       "      <td>5</td>\n",
       "    </tr>\n",
       "    <tr>\n",
       "      <th>2</th>\n",
       "      <td>2017-11-25 12:00:00</td>\n",
       "      <td>Good</td>\n",
       "      <td>1543.0</td>\n",
       "      <td>5</td>\n",
       "    </tr>\n",
       "    <tr>\n",
       "      <th>3</th>\n",
       "      <td>2017-11-04 10:00:00</td>\n",
       "      <td>Good</td>\n",
       "      <td>2512.0</td>\n",
       "      <td>5</td>\n",
       "    </tr>\n",
       "    <tr>\n",
       "      <th>4</th>\n",
       "      <td>2017-11-11 07:00:00</td>\n",
       "      <td>Good</td>\n",
       "      <td>1440.0</td>\n",
       "      <td>5</td>\n",
       "    </tr>\n",
       "  </tbody>\n",
       "</table>\n",
       "</div>"
      ],
      "text/plain": [
       "             start_ts weather_conditions  duration_seconds  week_day\n",
       "0 2017-11-25 16:00:00               Good            2410.0         5\n",
       "1 2017-11-25 14:00:00               Good            1920.0         5\n",
       "2 2017-11-25 12:00:00               Good            1543.0         5\n",
       "3 2017-11-04 10:00:00               Good            2512.0         5\n",
       "4 2017-11-11 07:00:00               Good            1440.0         5"
      ]
     },
     "execution_count": 14,
     "metadata": {},
     "output_type": "execute_result"
    }
   ],
   "source": [
    "df_weather.head()"
   ]
  },
  {
   "cell_type": "code",
   "execution_count": 15,
   "metadata": {},
   "outputs": [
    {
     "data": {
      "text/plain": [
       "6       2969.0\n",
       "30      1980.0\n",
       "34      2460.0\n",
       "51      2760.0\n",
       "52      2460.0\n",
       "         ...  \n",
       "1031    2560.0\n",
       "1032    1908.0\n",
       "1053    2400.0\n",
       "1061    2186.0\n",
       "1067    2834.0\n",
       "Name: duration_seconds, Length: 180, dtype: float64"
      ]
     },
     "execution_count": 15,
     "metadata": {},
     "output_type": "execute_result"
    }
   ],
   "source": [
    "#Query para filtrar la duración de los viajes en los que las condiciones del clima es \"malo\", ya que en esta definición \n",
    "#es donde se encuentra clasificado los días lluviosos\n",
    "\n",
    "bad_weather= df_weather.query('weather_conditions == \"Bad\"')['duration_seconds']\n",
    "bad_weather"
   ]
  },
  {
   "cell_type": "code",
   "execution_count": 16,
   "metadata": {},
   "outputs": [
    {
     "name": "stdout",
     "output_type": "stream",
     "text": [
      "La varianza en condiciones de clima malo es: 520294.086002483\n"
     ]
    }
   ],
   "source": [
    "#Se obtiene la varianza para las condiciones del clima 'malo'\n",
    "\n",
    "print('La varianza en condiciones de clima malo es:', bad_weather.var())"
   ]
  },
  {
   "cell_type": "code",
   "execution_count": 17,
   "metadata": {},
   "outputs": [
    {
     "data": {
      "text/plain": [
       "0       2410.0\n",
       "1       1920.0\n",
       "2       1543.0\n",
       "3       2512.0\n",
       "4       1440.0\n",
       "         ...  \n",
       "1062    1500.0\n",
       "1063       0.0\n",
       "1064    1318.0\n",
       "1065    2100.0\n",
       "1066    1380.0\n",
       "Name: duration_seconds, Length: 888, dtype: float64"
      ]
     },
     "execution_count": 17,
     "metadata": {},
     "output_type": "execute_result"
    }
   ],
   "source": [
    "#Query para filtrar la duración de los viajes los días en los que las condiciones del clima es \"bueno\"\n",
    "\n",
    "good_weather=df_weather.query('weather_conditions == \"Good\"')['duration_seconds']\n",
    "good_weather"
   ]
  },
  {
   "cell_type": "code",
   "execution_count": 18,
   "metadata": {},
   "outputs": [
    {
     "name": "stdout",
     "output_type": "stream",
     "text": [
      "La varianza en condiciones de clima bueno es: 576382.009689509\n"
     ]
    }
   ],
   "source": [
    "#Se obtiene la varianza para las condiciones del clima 'bueno'\n",
    "\n",
    "print('La varianza en condiciones de clima bueno es:', good_weather.var())"
   ]
  },
  {
   "cell_type": "code",
   "execution_count": 19,
   "metadata": {},
   "outputs": [
    {
     "name": "stdout",
     "output_type": "stream",
     "text": [
      "Valor p: 0.53\n",
      "No se rechaza la hipótesis nula sobre la igualdad de las varianzas\n"
     ]
    }
   ],
   "source": [
    "#Probar hipótesis nula y alternativa sobre la duración promedio de los viajes desde el Loop hasta el Aeropuerto \n",
    "\n",
    "alpha=0.05\n",
    "\n",
    "p_levene=st.levene(bad_weather, good_weather).pvalue\n",
    "\n",
    "print(f'Valor p: {round(p_levene,2)}')\n",
    "if p_levene > alpha:\n",
    "    print(\"No se rechaza la hipótesis nula sobre la igualdad de las varianzas\")\n",
    "else:\n",
    "    print('Se rechaza la hipótesis nula sobre la igualdad de las varianzas')"
   ]
  },
  {
   "cell_type": "code",
   "execution_count": 20,
   "metadata": {},
   "outputs": [
    {
     "name": "stdout",
     "output_type": "stream",
     "text": [
      "Valor p: 6.517970327099473e-12\n",
      "Se rechaza la hipótesis nula sobre la duración promedio de viajes cambia los sábados lluviosos\n"
     ]
    }
   ],
   "source": [
    "#Probar hipótesis nula y alternativa sobre la duración promedio de los viajes desde el Loop hasta el Aeropuerto \n",
    "#Internacional O'Hare cambia los sábados lluviosos\n",
    "\n",
    "prom_trips_rainyday = st.ttest_ind(bad_weather,good_weather, equal_var=True).pvalue\n",
    "print(f'Valor p: {prom_trips_rainyday}')\n",
    "\n",
    "if prom_trips_rainyday < alpha:\n",
    "    print('Se rechaza la hipótesis nula sobre la duración promedio de viajes cambia los sábados lluviosos')\n",
    "else:\n",
    "    print('No se rechaza la hipótesis nula sobre la duración promedio de viajes cambia los sábados lluviosos')"
   ]
  },
  {
   "cell_type": "markdown",
   "metadata": {},
   "source": [
    "### Conclusión\n",
    "\n",
    "Se plantea la hipótesis nula de sobre la igualdad de las medias de dos poblaciones para analizar dos muestras tanto la muestra con condiciones de clima \"bueno\", contra la muestra con condiciones de clima \"malo\", para obtener que tanta diferencia hay en cuanto a duración promedio de viajes entre estas dos. Se obtienen los datos de la duración de viajes de ambas muestras, para luego aplicarlas a la hipótesis, y obtener el resultado deseado.\n",
    "\n",
    "Como se puede observar, la hipótesis nula se rechaza, lo cual nos indica que son iguales, o bien, muy similares, lo que nos dice que el clima no afecta de manera significativa en la duración promedio de los viajes, la cual se mantiene 'estable' sin importar las condiciones del clima (ya sea bueno o malo."
   ]
  }
 ],
 "metadata": {
  "ExecuteTimeLog": [
   {
    "duration": 2191,
    "start_time": "2025-01-10T18:48:14.024Z"
   },
   {
    "duration": 12,
    "start_time": "2025-01-10T18:50:44.618Z"
   },
   {
    "duration": 11,
    "start_time": "2025-01-10T18:51:23.708Z"
   },
   {
    "duration": 10,
    "start_time": "2025-01-10T18:51:53.242Z"
   },
   {
    "duration": 8,
    "start_time": "2025-01-10T18:52:12.309Z"
   },
   {
    "duration": 5,
    "start_time": "2025-01-10T19:15:22.457Z"
   },
   {
    "duration": 3,
    "start_time": "2025-01-10T19:15:34.160Z"
   },
   {
    "duration": 3,
    "start_time": "2025-01-10T19:15:54.251Z"
   },
   {
    "duration": 4,
    "start_time": "2025-01-10T19:16:36.571Z"
   },
   {
    "duration": 5,
    "start_time": "2025-01-10T19:17:04.755Z"
   },
   {
    "duration": 171,
    "start_time": "2025-01-13T16:10:22.116Z"
   },
   {
    "duration": 2300,
    "start_time": "2025-01-13T16:10:43.670Z"
   },
   {
    "duration": 13,
    "start_time": "2025-01-13T16:10:45.973Z"
   },
   {
    "duration": 10,
    "start_time": "2025-01-13T16:10:45.988Z"
   },
   {
    "duration": 9,
    "start_time": "2025-01-13T16:10:46.001Z"
   },
   {
    "duration": 9,
    "start_time": "2025-01-13T16:10:46.012Z"
   },
   {
    "duration": 651,
    "start_time": "2025-01-13T16:10:46.022Z"
   },
   {
    "duration": 11,
    "start_time": "2025-01-13T16:11:10.113Z"
   },
   {
    "duration": 23,
    "start_time": "2025-01-13T16:12:13.900Z"
   },
   {
    "duration": 9,
    "start_time": "2025-01-13T16:12:26.250Z"
   },
   {
    "duration": 15,
    "start_time": "2025-01-13T16:13:19.808Z"
   },
   {
    "duration": 151,
    "start_time": "2025-01-13T16:15:45.456Z"
   },
   {
    "duration": 117,
    "start_time": "2025-01-13T16:16:03.201Z"
   },
   {
    "duration": 9,
    "start_time": "2025-01-13T16:16:11.732Z"
   },
   {
    "duration": 5,
    "start_time": "2025-01-13T16:16:27.437Z"
   },
   {
    "duration": 6,
    "start_time": "2025-01-13T16:16:55.597Z"
   },
   {
    "duration": 5,
    "start_time": "2025-01-13T16:17:54.875Z"
   },
   {
    "duration": 5,
    "start_time": "2025-01-13T16:18:32.476Z"
   },
   {
    "duration": 8,
    "start_time": "2025-01-13T16:19:01.388Z"
   },
   {
    "duration": 7,
    "start_time": "2025-01-13T16:19:59.902Z"
   },
   {
    "duration": 7,
    "start_time": "2025-01-13T16:20:11.838Z"
   },
   {
    "duration": 5,
    "start_time": "2025-01-13T16:20:33.539Z"
   },
   {
    "duration": 13,
    "start_time": "2025-01-13T16:21:23.077Z"
   },
   {
    "duration": 12,
    "start_time": "2025-01-13T16:21:32.438Z"
   },
   {
    "duration": 16,
    "start_time": "2025-01-13T16:22:05.052Z"
   },
   {
    "duration": 13,
    "start_time": "2025-01-13T16:22:17.949Z"
   },
   {
    "duration": 13,
    "start_time": "2025-01-13T16:22:31.990Z"
   },
   {
    "duration": 3,
    "start_time": "2025-01-13T16:24:56.385Z"
   },
   {
    "duration": 7,
    "start_time": "2025-01-13T16:25:05.374Z"
   },
   {
    "duration": 14,
    "start_time": "2025-01-13T16:25:18.591Z"
   },
   {
    "duration": 7,
    "start_time": "2025-01-13T16:25:24.790Z"
   },
   {
    "duration": 6,
    "start_time": "2025-01-13T16:25:32.293Z"
   },
   {
    "duration": 4,
    "start_time": "2025-01-13T16:27:17.354Z"
   },
   {
    "duration": 6,
    "start_time": "2025-01-13T16:27:24.427Z"
   },
   {
    "duration": 18,
    "start_time": "2025-01-13T16:27:46.705Z"
   },
   {
    "duration": 19,
    "start_time": "2025-01-13T16:28:28.224Z"
   },
   {
    "duration": 6,
    "start_time": "2025-01-13T16:32:27.196Z"
   },
   {
    "duration": 6,
    "start_time": "2025-01-13T16:33:00.158Z"
   },
   {
    "duration": 6,
    "start_time": "2025-01-13T16:33:22.823Z"
   },
   {
    "duration": 6,
    "start_time": "2025-01-13T16:33:44.175Z"
   },
   {
    "duration": 6,
    "start_time": "2025-01-13T16:34:16.277Z"
   },
   {
    "duration": 7,
    "start_time": "2025-01-13T16:37:52.980Z"
   },
   {
    "duration": 6,
    "start_time": "2025-01-13T16:37:59.710Z"
   },
   {
    "duration": 6,
    "start_time": "2025-01-13T16:39:28.137Z"
   },
   {
    "duration": 131,
    "start_time": "2025-01-13T16:40:23.642Z"
   },
   {
    "duration": 195,
    "start_time": "2025-01-13T16:40:50.329Z"
   },
   {
    "duration": 129,
    "start_time": "2025-01-13T16:40:56.274Z"
   },
   {
    "duration": 122,
    "start_time": "2025-01-13T16:41:03.008Z"
   },
   {
    "duration": 127,
    "start_time": "2025-01-13T16:44:25.116Z"
   },
   {
    "duration": 127,
    "start_time": "2025-01-13T16:46:10.611Z"
   },
   {
    "duration": 130,
    "start_time": "2025-01-13T16:46:28.797Z"
   },
   {
    "duration": 6,
    "start_time": "2025-01-13T17:02:15.293Z"
   },
   {
    "duration": 153,
    "start_time": "2025-01-13T17:03:26.086Z"
   },
   {
    "duration": 13,
    "start_time": "2025-01-13T17:06:00.026Z"
   },
   {
    "duration": 8,
    "start_time": "2025-01-13T17:06:07.179Z"
   },
   {
    "duration": 8,
    "start_time": "2025-01-13T17:06:14.986Z"
   },
   {
    "duration": 9,
    "start_time": "2025-01-13T17:06:27.117Z"
   },
   {
    "duration": 9,
    "start_time": "2025-01-13T17:48:58.444Z"
   },
   {
    "duration": 12,
    "start_time": "2025-01-13T17:49:06.926Z"
   },
   {
    "duration": 15,
    "start_time": "2025-01-13T17:52:41.817Z"
   },
   {
    "duration": 13,
    "start_time": "2025-01-13T17:52:47.683Z"
   },
   {
    "duration": 16,
    "start_time": "2025-01-13T17:55:47.422Z"
   },
   {
    "duration": 12,
    "start_time": "2025-01-13T17:55:57.184Z"
   },
   {
    "duration": 13,
    "start_time": "2025-01-13T17:57:47.085Z"
   },
   {
    "duration": 9,
    "start_time": "2025-01-13T17:58:48.834Z"
   },
   {
    "duration": 13,
    "start_time": "2025-01-13T18:01:32.136Z"
   },
   {
    "duration": 14,
    "start_time": "2025-01-13T18:01:40.084Z"
   },
   {
    "duration": 14,
    "start_time": "2025-01-13T18:02:33.006Z"
   },
   {
    "duration": 7,
    "start_time": "2025-01-13T18:02:44.551Z"
   },
   {
    "duration": 12,
    "start_time": "2025-01-13T18:03:38.831Z"
   },
   {
    "duration": 67,
    "start_time": "2025-01-13T18:05:06.505Z"
   },
   {
    "duration": 58,
    "start_time": "2025-01-13T18:06:28.152Z"
   },
   {
    "duration": 8,
    "start_time": "2025-01-13T18:06:41.015Z"
   },
   {
    "duration": 7,
    "start_time": "2025-01-13T18:07:10.913Z"
   },
   {
    "duration": 294,
    "start_time": "2025-01-13T18:14:06.462Z"
   },
   {
    "duration": 3,
    "start_time": "2025-01-13T18:30:34.294Z"
   },
   {
    "duration": 5,
    "start_time": "2025-01-13T18:47:01.692Z"
   },
   {
    "duration": 157,
    "start_time": "2025-01-13T22:46:27.778Z"
   },
   {
    "duration": 2578,
    "start_time": "2025-01-13T22:46:44.294Z"
   },
   {
    "duration": 13,
    "start_time": "2025-01-13T22:46:46.874Z"
   },
   {
    "duration": 9,
    "start_time": "2025-01-13T22:46:46.888Z"
   },
   {
    "duration": 11,
    "start_time": "2025-01-13T22:46:46.900Z"
   },
   {
    "duration": 10,
    "start_time": "2025-01-13T22:46:46.913Z"
   },
   {
    "duration": 8,
    "start_time": "2025-01-13T22:46:46.924Z"
   },
   {
    "duration": 5,
    "start_time": "2025-01-13T22:46:46.933Z"
   },
   {
    "duration": 167,
    "start_time": "2025-01-13T22:46:46.940Z"
   },
   {
    "duration": 6,
    "start_time": "2025-01-13T22:46:47.108Z"
   },
   {
    "duration": 163,
    "start_time": "2025-01-13T22:46:47.117Z"
   },
   {
    "duration": 12,
    "start_time": "2025-01-13T22:46:47.282Z"
   },
   {
    "duration": 17,
    "start_time": "2025-01-13T22:46:47.296Z"
   },
   {
    "duration": 12,
    "start_time": "2025-01-13T22:46:47.314Z"
   },
   {
    "duration": 6,
    "start_time": "2025-01-13T22:46:47.328Z"
   },
   {
    "duration": 6,
    "start_time": "2025-01-13T22:46:47.337Z"
   },
   {
    "duration": 7,
    "start_time": "2025-01-13T22:46:47.344Z"
   },
   {
    "duration": 4,
    "start_time": "2025-01-13T22:46:47.353Z"
   },
   {
    "duration": 8,
    "start_time": "2025-01-13T22:47:50.802Z"
   },
   {
    "duration": 4,
    "start_time": "2025-01-13T22:48:26.884Z"
   },
   {
    "duration": 3,
    "start_time": "2025-01-13T22:48:49.157Z"
   },
   {
    "duration": 3,
    "start_time": "2025-01-13T22:49:18.821Z"
   },
   {
    "duration": 4,
    "start_time": "2025-01-13T22:50:17.355Z"
   },
   {
    "duration": 5,
    "start_time": "2025-01-13T22:50:53.688Z"
   },
   {
    "duration": 4,
    "start_time": "2025-01-13T23:39:39.506Z"
   },
   {
    "duration": 5,
    "start_time": "2025-01-13T23:42:18.105Z"
   },
   {
    "duration": 4,
    "start_time": "2025-01-13T23:48:09.126Z"
   },
   {
    "duration": 4,
    "start_time": "2025-01-13T23:58:07.938Z"
   },
   {
    "duration": 816,
    "start_time": "2025-01-14T00:15:14.127Z"
   },
   {
    "duration": 9,
    "start_time": "2025-01-14T00:15:14.945Z"
   },
   {
    "duration": 7,
    "start_time": "2025-01-14T00:15:14.956Z"
   },
   {
    "duration": 8,
    "start_time": "2025-01-14T00:15:14.966Z"
   },
   {
    "duration": 8,
    "start_time": "2025-01-14T00:15:14.975Z"
   },
   {
    "duration": 28,
    "start_time": "2025-01-14T00:15:14.984Z"
   },
   {
    "duration": 6,
    "start_time": "2025-01-14T00:15:15.014Z"
   },
   {
    "duration": 165,
    "start_time": "2025-01-14T00:15:15.022Z"
   },
   {
    "duration": 5,
    "start_time": "2025-01-14T00:15:15.189Z"
   },
   {
    "duration": 163,
    "start_time": "2025-01-14T00:15:15.206Z"
   },
   {
    "duration": 9,
    "start_time": "2025-01-14T00:15:15.371Z"
   },
   {
    "duration": 8,
    "start_time": "2025-01-14T00:15:15.381Z"
   },
   {
    "duration": 22,
    "start_time": "2025-01-14T00:15:15.391Z"
   },
   {
    "duration": 8,
    "start_time": "2025-01-14T00:15:15.415Z"
   },
   {
    "duration": 7,
    "start_time": "2025-01-14T00:15:15.425Z"
   },
   {
    "duration": 3,
    "start_time": "2025-01-14T00:15:15.433Z"
   },
   {
    "duration": 6,
    "start_time": "2025-01-14T00:15:15.437Z"
   },
   {
    "duration": 3,
    "start_time": "2025-01-14T00:15:15.445Z"
   },
   {
    "duration": 4,
    "start_time": "2025-01-14T00:15:15.450Z"
   },
   {
    "duration": 4,
    "start_time": "2025-01-14T00:15:15.456Z"
   }
  ],
  "kernelspec": {
   "display_name": "Python 3 (ipykernel)",
   "language": "python",
   "name": "python3"
  },
  "language_info": {
   "codemirror_mode": {
    "name": "ipython",
    "version": 3
   },
   "file_extension": ".py",
   "mimetype": "text/x-python",
   "name": "python",
   "nbconvert_exporter": "python",
   "pygments_lexer": "ipython3",
   "version": "3.9.19"
  },
  "toc": {
   "base_numbering": 1,
   "nav_menu": {},
   "number_sections": true,
   "sideBar": true,
   "skip_h1_title": true,
   "title_cell": "Table of Contents",
   "title_sidebar": "Contents",
   "toc_cell": false,
   "toc_position": {},
   "toc_section_display": true,
   "toc_window_display": false
  }
 },
 "nbformat": 4,
 "nbformat_minor": 2
}
